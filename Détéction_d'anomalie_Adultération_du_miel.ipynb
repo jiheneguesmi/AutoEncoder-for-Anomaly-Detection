{
  "cells": [
    {
      "cell_type": "markdown",
      "source": [
        "## Objectif du projet: distinguer le miel pur du miel adultéré\n",
        "- Spectroscopie: l’interaction de la lumière avec les matériaux.\n",
        "\n",
        "**Imagerie hyperspectrale pour la détection de la fraude alimentaire:**\n",
        "\n",
        "\n",
        "• Détermination de la composition chimique: les différents matériaux\n",
        "ont des signatures spectrales uniques, ce qui permet d’identifier les\n",
        "substances.\n",
        "\n",
        "• Indication de concentration : en analysant la variation de l’intensité\n",
        "lumineuse à différentes longueurs d’onde, l’imagerie hyperspectrale\n",
        "peut fournir des indications sur la concentration des composants\n",
        "chimiques.\n",
        "\n",
        "On utilise l’imagerie hyperspectrale et les techniques\n",
        "d’apprentissage automatique pour détecter l’adultération du miel\n",
        "avec du sucre à différentes concentrations (5%, 10%, 25%, 50%)."
      ],
      "metadata": {
        "id": "8S5mLb_HPiwB"
      },
      "id": "8S5mLb_HPiwB"
    },
    {
      "cell_type": "code",
      "execution_count": 1,
      "id": "d5b99f4b",
      "metadata": {
        "id": "d5b99f4b"
      },
      "outputs": [],
      "source": [
        "#import\n",
        "import numpy as np\n",
        "import pandas as pd\n",
        "import matplotlib.pyplot as plt\n",
        "import seaborn as sns\n",
        "import os"
      ]
    },
    {
      "cell_type": "code",
      "execution_count": 2,
      "id": "a8b5dc79",
      "metadata": {
        "id": "a8b5dc79"
      },
      "outputs": [],
      "source": [
        "#chargement des données\n",
        "df=pd.read_csv(\"adulteration_dataset_26_08_2021.csv\")"
      ]
    },
    {
      "cell_type": "code",
      "execution_count": 3,
      "id": "eee40abf",
      "metadata": {
        "id": "eee40abf",
        "colab": {
          "base_uri": "https://localhost:8080/",
          "height": 255
        },
        "outputId": "313a1ab6-f132-47d5-e451-087aa7ed5dc1"
      },
      "outputs": [
        {
          "output_type": "execute_result",
          "data": {
            "text/plain": [
              "  Brand  Acquisition  Concentration_Class  Concentration  399.40nm  404.39nm  \\\n",
              "0    C1            2                   50           50.0  1.029176  1.056051   \n",
              "1    C1            2                   50           50.0  1.053778  1.070452   \n",
              "2    C1            2                   50           50.0  1.088773  1.042955   \n",
              "3    C1            2                   50           50.0  1.040980  1.050815   \n",
              "4    C1            2                   50           50.0  1.114777  1.039309   \n",
              "\n",
              "   409.38nm  414.37nm  419.37nm  424.38nm  ...  1020.10nm  1025.55nm  \\\n",
              "0  1.038291  1.034530  0.999627  0.912370  ...   0.348729   0.351380   \n",
              "1  1.054946  1.033672  1.017340  0.900341  ...   0.360863   0.365784   \n",
              "2  1.091762  1.024891  1.017998  0.909208  ...   0.359893   0.365922   \n",
              "3  1.041357  1.032640  1.000945  0.892702  ...   0.375256   0.374532   \n",
              "4  1.036861  1.014923  0.965831  0.917315  ...   0.360017   0.361234   \n",
              "\n",
              "   1031.00nm  1036.46nm  1041.92nm  1047.38nm  1052.85nm  1058.32nm  \\\n",
              "0   0.355957   0.365170   0.382118   0.393492   0.410689   0.436481   \n",
              "1   0.365818   0.378203   0.391223   0.409595   0.427099   0.440755   \n",
              "2   0.369344   0.380716   0.390350   0.405218   0.429270   0.450195   \n",
              "3   0.385654   0.390755   0.407553   0.424365   0.438788   0.458487   \n",
              "4   0.372401   0.377788   0.392066   0.405991   0.422643   0.448330   \n",
              "\n",
              "   1063.79nm   Class  \n",
              "0   0.454846  Clover  \n",
              "1   0.467418  Clover  \n",
              "2   0.470935  Clover  \n",
              "3   0.493396  Clover  \n",
              "4   0.472570  Clover  \n",
              "\n",
              "[5 rows x 133 columns]"
            ],
            "text/html": [
              "\n",
              "  <div id=\"df-f0c795a3-9d3e-4cbe-bd71-77777fb84fc0\" class=\"colab-df-container\">\n",
              "    <div>\n",
              "<style scoped>\n",
              "    .dataframe tbody tr th:only-of-type {\n",
              "        vertical-align: middle;\n",
              "    }\n",
              "\n",
              "    .dataframe tbody tr th {\n",
              "        vertical-align: top;\n",
              "    }\n",
              "\n",
              "    .dataframe thead th {\n",
              "        text-align: right;\n",
              "    }\n",
              "</style>\n",
              "<table border=\"1\" class=\"dataframe\">\n",
              "  <thead>\n",
              "    <tr style=\"text-align: right;\">\n",
              "      <th></th>\n",
              "      <th>Brand</th>\n",
              "      <th>Acquisition</th>\n",
              "      <th>Concentration_Class</th>\n",
              "      <th>Concentration</th>\n",
              "      <th>399.40nm</th>\n",
              "      <th>404.39nm</th>\n",
              "      <th>409.38nm</th>\n",
              "      <th>414.37nm</th>\n",
              "      <th>419.37nm</th>\n",
              "      <th>424.38nm</th>\n",
              "      <th>...</th>\n",
              "      <th>1020.10nm</th>\n",
              "      <th>1025.55nm</th>\n",
              "      <th>1031.00nm</th>\n",
              "      <th>1036.46nm</th>\n",
              "      <th>1041.92nm</th>\n",
              "      <th>1047.38nm</th>\n",
              "      <th>1052.85nm</th>\n",
              "      <th>1058.32nm</th>\n",
              "      <th>1063.79nm</th>\n",
              "      <th>Class</th>\n",
              "    </tr>\n",
              "  </thead>\n",
              "  <tbody>\n",
              "    <tr>\n",
              "      <th>0</th>\n",
              "      <td>C1</td>\n",
              "      <td>2</td>\n",
              "      <td>50</td>\n",
              "      <td>50.0</td>\n",
              "      <td>1.029176</td>\n",
              "      <td>1.056051</td>\n",
              "      <td>1.038291</td>\n",
              "      <td>1.034530</td>\n",
              "      <td>0.999627</td>\n",
              "      <td>0.912370</td>\n",
              "      <td>...</td>\n",
              "      <td>0.348729</td>\n",
              "      <td>0.351380</td>\n",
              "      <td>0.355957</td>\n",
              "      <td>0.365170</td>\n",
              "      <td>0.382118</td>\n",
              "      <td>0.393492</td>\n",
              "      <td>0.410689</td>\n",
              "      <td>0.436481</td>\n",
              "      <td>0.454846</td>\n",
              "      <td>Clover</td>\n",
              "    </tr>\n",
              "    <tr>\n",
              "      <th>1</th>\n",
              "      <td>C1</td>\n",
              "      <td>2</td>\n",
              "      <td>50</td>\n",
              "      <td>50.0</td>\n",
              "      <td>1.053778</td>\n",
              "      <td>1.070452</td>\n",
              "      <td>1.054946</td>\n",
              "      <td>1.033672</td>\n",
              "      <td>1.017340</td>\n",
              "      <td>0.900341</td>\n",
              "      <td>...</td>\n",
              "      <td>0.360863</td>\n",
              "      <td>0.365784</td>\n",
              "      <td>0.365818</td>\n",
              "      <td>0.378203</td>\n",
              "      <td>0.391223</td>\n",
              "      <td>0.409595</td>\n",
              "      <td>0.427099</td>\n",
              "      <td>0.440755</td>\n",
              "      <td>0.467418</td>\n",
              "      <td>Clover</td>\n",
              "    </tr>\n",
              "    <tr>\n",
              "      <th>2</th>\n",
              "      <td>C1</td>\n",
              "      <td>2</td>\n",
              "      <td>50</td>\n",
              "      <td>50.0</td>\n",
              "      <td>1.088773</td>\n",
              "      <td>1.042955</td>\n",
              "      <td>1.091762</td>\n",
              "      <td>1.024891</td>\n",
              "      <td>1.017998</td>\n",
              "      <td>0.909208</td>\n",
              "      <td>...</td>\n",
              "      <td>0.359893</td>\n",
              "      <td>0.365922</td>\n",
              "      <td>0.369344</td>\n",
              "      <td>0.380716</td>\n",
              "      <td>0.390350</td>\n",
              "      <td>0.405218</td>\n",
              "      <td>0.429270</td>\n",
              "      <td>0.450195</td>\n",
              "      <td>0.470935</td>\n",
              "      <td>Clover</td>\n",
              "    </tr>\n",
              "    <tr>\n",
              "      <th>3</th>\n",
              "      <td>C1</td>\n",
              "      <td>2</td>\n",
              "      <td>50</td>\n",
              "      <td>50.0</td>\n",
              "      <td>1.040980</td>\n",
              "      <td>1.050815</td>\n",
              "      <td>1.041357</td>\n",
              "      <td>1.032640</td>\n",
              "      <td>1.000945</td>\n",
              "      <td>0.892702</td>\n",
              "      <td>...</td>\n",
              "      <td>0.375256</td>\n",
              "      <td>0.374532</td>\n",
              "      <td>0.385654</td>\n",
              "      <td>0.390755</td>\n",
              "      <td>0.407553</td>\n",
              "      <td>0.424365</td>\n",
              "      <td>0.438788</td>\n",
              "      <td>0.458487</td>\n",
              "      <td>0.493396</td>\n",
              "      <td>Clover</td>\n",
              "    </tr>\n",
              "    <tr>\n",
              "      <th>4</th>\n",
              "      <td>C1</td>\n",
              "      <td>2</td>\n",
              "      <td>50</td>\n",
              "      <td>50.0</td>\n",
              "      <td>1.114777</td>\n",
              "      <td>1.039309</td>\n",
              "      <td>1.036861</td>\n",
              "      <td>1.014923</td>\n",
              "      <td>0.965831</td>\n",
              "      <td>0.917315</td>\n",
              "      <td>...</td>\n",
              "      <td>0.360017</td>\n",
              "      <td>0.361234</td>\n",
              "      <td>0.372401</td>\n",
              "      <td>0.377788</td>\n",
              "      <td>0.392066</td>\n",
              "      <td>0.405991</td>\n",
              "      <td>0.422643</td>\n",
              "      <td>0.448330</td>\n",
              "      <td>0.472570</td>\n",
              "      <td>Clover</td>\n",
              "    </tr>\n",
              "  </tbody>\n",
              "</table>\n",
              "<p>5 rows × 133 columns</p>\n",
              "</div>\n",
              "    <div class=\"colab-df-buttons\">\n",
              "\n",
              "  <div class=\"colab-df-container\">\n",
              "    <button class=\"colab-df-convert\" onclick=\"convertToInteractive('df-f0c795a3-9d3e-4cbe-bd71-77777fb84fc0')\"\n",
              "            title=\"Convert this dataframe to an interactive table.\"\n",
              "            style=\"display:none;\">\n",
              "\n",
              "  <svg xmlns=\"http://www.w3.org/2000/svg\" height=\"24px\" viewBox=\"0 -960 960 960\">\n",
              "    <path d=\"M120-120v-720h720v720H120Zm60-500h600v-160H180v160Zm220 220h160v-160H400v160Zm0 220h160v-160H400v160ZM180-400h160v-160H180v160Zm440 0h160v-160H620v160ZM180-180h160v-160H180v160Zm440 0h160v-160H620v160Z\"/>\n",
              "  </svg>\n",
              "    </button>\n",
              "\n",
              "  <style>\n",
              "    .colab-df-container {\n",
              "      display:flex;\n",
              "      gap: 12px;\n",
              "    }\n",
              "\n",
              "    .colab-df-convert {\n",
              "      background-color: #E8F0FE;\n",
              "      border: none;\n",
              "      border-radius: 50%;\n",
              "      cursor: pointer;\n",
              "      display: none;\n",
              "      fill: #1967D2;\n",
              "      height: 32px;\n",
              "      padding: 0 0 0 0;\n",
              "      width: 32px;\n",
              "    }\n",
              "\n",
              "    .colab-df-convert:hover {\n",
              "      background-color: #E2EBFA;\n",
              "      box-shadow: 0px 1px 2px rgba(60, 64, 67, 0.3), 0px 1px 3px 1px rgba(60, 64, 67, 0.15);\n",
              "      fill: #174EA6;\n",
              "    }\n",
              "\n",
              "    .colab-df-buttons div {\n",
              "      margin-bottom: 4px;\n",
              "    }\n",
              "\n",
              "    [theme=dark] .colab-df-convert {\n",
              "      background-color: #3B4455;\n",
              "      fill: #D2E3FC;\n",
              "    }\n",
              "\n",
              "    [theme=dark] .colab-df-convert:hover {\n",
              "      background-color: #434B5C;\n",
              "      box-shadow: 0px 1px 3px 1px rgba(0, 0, 0, 0.15);\n",
              "      filter: drop-shadow(0px 1px 2px rgba(0, 0, 0, 0.3));\n",
              "      fill: #FFFFFF;\n",
              "    }\n",
              "  </style>\n",
              "\n",
              "    <script>\n",
              "      const buttonEl =\n",
              "        document.querySelector('#df-f0c795a3-9d3e-4cbe-bd71-77777fb84fc0 button.colab-df-convert');\n",
              "      buttonEl.style.display =\n",
              "        google.colab.kernel.accessAllowed ? 'block' : 'none';\n",
              "\n",
              "      async function convertToInteractive(key) {\n",
              "        const element = document.querySelector('#df-f0c795a3-9d3e-4cbe-bd71-77777fb84fc0');\n",
              "        const dataTable =\n",
              "          await google.colab.kernel.invokeFunction('convertToInteractive',\n",
              "                                                    [key], {});\n",
              "        if (!dataTable) return;\n",
              "\n",
              "        const docLinkHtml = 'Like what you see? Visit the ' +\n",
              "          '<a target=\"_blank\" href=https://colab.research.google.com/notebooks/data_table.ipynb>data table notebook</a>'\n",
              "          + ' to learn more about interactive tables.';\n",
              "        element.innerHTML = '';\n",
              "        dataTable['output_type'] = 'display_data';\n",
              "        await google.colab.output.renderOutput(dataTable, element);\n",
              "        const docLink = document.createElement('div');\n",
              "        docLink.innerHTML = docLinkHtml;\n",
              "        element.appendChild(docLink);\n",
              "      }\n",
              "    </script>\n",
              "  </div>\n",
              "\n",
              "\n",
              "<div id=\"df-f149e377-4723-489a-8b07-93eeb1c77020\">\n",
              "  <button class=\"colab-df-quickchart\" onclick=\"quickchart('df-f149e377-4723-489a-8b07-93eeb1c77020')\"\n",
              "            title=\"Suggest charts\"\n",
              "            style=\"display:none;\">\n",
              "\n",
              "<svg xmlns=\"http://www.w3.org/2000/svg\" height=\"24px\"viewBox=\"0 0 24 24\"\n",
              "     width=\"24px\">\n",
              "    <g>\n",
              "        <path d=\"M19 3H5c-1.1 0-2 .9-2 2v14c0 1.1.9 2 2 2h14c1.1 0 2-.9 2-2V5c0-1.1-.9-2-2-2zM9 17H7v-7h2v7zm4 0h-2V7h2v10zm4 0h-2v-4h2v4z\"/>\n",
              "    </g>\n",
              "</svg>\n",
              "  </button>\n",
              "\n",
              "<style>\n",
              "  .colab-df-quickchart {\n",
              "      --bg-color: #E8F0FE;\n",
              "      --fill-color: #1967D2;\n",
              "      --hover-bg-color: #E2EBFA;\n",
              "      --hover-fill-color: #174EA6;\n",
              "      --disabled-fill-color: #AAA;\n",
              "      --disabled-bg-color: #DDD;\n",
              "  }\n",
              "\n",
              "  [theme=dark] .colab-df-quickchart {\n",
              "      --bg-color: #3B4455;\n",
              "      --fill-color: #D2E3FC;\n",
              "      --hover-bg-color: #434B5C;\n",
              "      --hover-fill-color: #FFFFFF;\n",
              "      --disabled-bg-color: #3B4455;\n",
              "      --disabled-fill-color: #666;\n",
              "  }\n",
              "\n",
              "  .colab-df-quickchart {\n",
              "    background-color: var(--bg-color);\n",
              "    border: none;\n",
              "    border-radius: 50%;\n",
              "    cursor: pointer;\n",
              "    display: none;\n",
              "    fill: var(--fill-color);\n",
              "    height: 32px;\n",
              "    padding: 0;\n",
              "    width: 32px;\n",
              "  }\n",
              "\n",
              "  .colab-df-quickchart:hover {\n",
              "    background-color: var(--hover-bg-color);\n",
              "    box-shadow: 0 1px 2px rgba(60, 64, 67, 0.3), 0 1px 3px 1px rgba(60, 64, 67, 0.15);\n",
              "    fill: var(--button-hover-fill-color);\n",
              "  }\n",
              "\n",
              "  .colab-df-quickchart-complete:disabled,\n",
              "  .colab-df-quickchart-complete:disabled:hover {\n",
              "    background-color: var(--disabled-bg-color);\n",
              "    fill: var(--disabled-fill-color);\n",
              "    box-shadow: none;\n",
              "  }\n",
              "\n",
              "  .colab-df-spinner {\n",
              "    border: 2px solid var(--fill-color);\n",
              "    border-color: transparent;\n",
              "    border-bottom-color: var(--fill-color);\n",
              "    animation:\n",
              "      spin 1s steps(1) infinite;\n",
              "  }\n",
              "\n",
              "  @keyframes spin {\n",
              "    0% {\n",
              "      border-color: transparent;\n",
              "      border-bottom-color: var(--fill-color);\n",
              "      border-left-color: var(--fill-color);\n",
              "    }\n",
              "    20% {\n",
              "      border-color: transparent;\n",
              "      border-left-color: var(--fill-color);\n",
              "      border-top-color: var(--fill-color);\n",
              "    }\n",
              "    30% {\n",
              "      border-color: transparent;\n",
              "      border-left-color: var(--fill-color);\n",
              "      border-top-color: var(--fill-color);\n",
              "      border-right-color: var(--fill-color);\n",
              "    }\n",
              "    40% {\n",
              "      border-color: transparent;\n",
              "      border-right-color: var(--fill-color);\n",
              "      border-top-color: var(--fill-color);\n",
              "    }\n",
              "    60% {\n",
              "      border-color: transparent;\n",
              "      border-right-color: var(--fill-color);\n",
              "    }\n",
              "    80% {\n",
              "      border-color: transparent;\n",
              "      border-right-color: var(--fill-color);\n",
              "      border-bottom-color: var(--fill-color);\n",
              "    }\n",
              "    90% {\n",
              "      border-color: transparent;\n",
              "      border-bottom-color: var(--fill-color);\n",
              "    }\n",
              "  }\n",
              "</style>\n",
              "\n",
              "  <script>\n",
              "    async function quickchart(key) {\n",
              "      const quickchartButtonEl =\n",
              "        document.querySelector('#' + key + ' button');\n",
              "      quickchartButtonEl.disabled = true;  // To prevent multiple clicks.\n",
              "      quickchartButtonEl.classList.add('colab-df-spinner');\n",
              "      try {\n",
              "        const charts = await google.colab.kernel.invokeFunction(\n",
              "            'suggestCharts', [key], {});\n",
              "      } catch (error) {\n",
              "        console.error('Error during call to suggestCharts:', error);\n",
              "      }\n",
              "      quickchartButtonEl.classList.remove('colab-df-spinner');\n",
              "      quickchartButtonEl.classList.add('colab-df-quickchart-complete');\n",
              "    }\n",
              "    (() => {\n",
              "      let quickchartButtonEl =\n",
              "        document.querySelector('#df-f149e377-4723-489a-8b07-93eeb1c77020 button');\n",
              "      quickchartButtonEl.style.display =\n",
              "        google.colab.kernel.accessAllowed ? 'block' : 'none';\n",
              "    })();\n",
              "  </script>\n",
              "</div>\n",
              "\n",
              "    </div>\n",
              "  </div>\n"
            ],
            "application/vnd.google.colaboratory.intrinsic+json": {
              "type": "dataframe",
              "variable_name": "df"
            }
          },
          "metadata": {},
          "execution_count": 3
        }
      ],
      "source": [
        "#Exploration des données\n",
        "df.head()"
      ]
    },
    {
      "cell_type": "code",
      "source": [
        "df.columns"
      ],
      "metadata": {
        "colab": {
          "base_uri": "https://localhost:8080/"
        },
        "id": "JraMJzsbQZ7q",
        "outputId": "44f60cbd-b97a-4a75-8af3-08d75dee137a"
      },
      "id": "JraMJzsbQZ7q",
      "execution_count": 4,
      "outputs": [
        {
          "output_type": "execute_result",
          "data": {
            "text/plain": [
              "Index(['Brand', 'Acquisition', 'Concentration_Class', 'Concentration',\n",
              "       '399.40nm', '404.39nm', '409.38nm', '414.37nm', '419.37nm', '424.38nm',\n",
              "       ...\n",
              "       '1020.10nm', '1025.55nm', '1031.00nm', '1036.46nm', '1041.92nm',\n",
              "       '1047.38nm', '1052.85nm', '1058.32nm', '1063.79nm', 'Class'],\n",
              "      dtype='object', length=133)"
            ]
          },
          "metadata": {},
          "execution_count": 4
        }
      ]
    },
    {
      "source": [
        "# Extraction des colonnes 4 à 132 contenant les données spectrales\n",
        "wavelengths = df.columns[4:133]\n"
      ],
      "cell_type": "code",
      "metadata": {
        "id": "2njwfqRkRxzK"
      },
      "id": "2njwfqRkRxzK",
      "execution_count": 6,
      "outputs": []
    },
    {
      "cell_type": "code",
      "source": [
        "df.shape"
      ],
      "metadata": {
        "colab": {
          "base_uri": "https://localhost:8080/"
        },
        "id": "Ezh3rqlvPrOA",
        "outputId": "3f8f74e0-d9cb-4ab0-9f5d-f6268b007bde"
      },
      "id": "Ezh3rqlvPrOA",
      "execution_count": 7,
      "outputs": [
        {
          "output_type": "execute_result",
          "data": {
            "text/plain": [
              "(8675, 133)"
            ]
          },
          "metadata": {},
          "execution_count": 7
        }
      ]
    },
    {
      "cell_type": "code",
      "source": [
        "df['Concentration_Class'].value_counts()"
      ],
      "metadata": {
        "colab": {
          "base_uri": "https://localhost:8080/",
          "height": 303
        },
        "id": "E_3Jd1_yPskC",
        "outputId": "01157ef6-38fd-44ab-88e3-8524f0d3780c"
      },
      "id": "E_3Jd1_yPskC",
      "execution_count": 8,
      "outputs": [
        {
          "output_type": "execute_result",
          "data": {
            "text/plain": [
              "Concentration_Class\n",
              "5      1950\n",
              "50     1925\n",
              "10     1800\n",
              "25     1800\n",
              "0      1050\n",
              "100     150\n",
              "Name: count, dtype: int64"
            ],
            "text/html": [
              "<div>\n",
              "<style scoped>\n",
              "    .dataframe tbody tr th:only-of-type {\n",
              "        vertical-align: middle;\n",
              "    }\n",
              "\n",
              "    .dataframe tbody tr th {\n",
              "        vertical-align: top;\n",
              "    }\n",
              "\n",
              "    .dataframe thead th {\n",
              "        text-align: right;\n",
              "    }\n",
              "</style>\n",
              "<table border=\"1\" class=\"dataframe\">\n",
              "  <thead>\n",
              "    <tr style=\"text-align: right;\">\n",
              "      <th></th>\n",
              "      <th>count</th>\n",
              "    </tr>\n",
              "    <tr>\n",
              "      <th>Concentration_Class</th>\n",
              "      <th></th>\n",
              "    </tr>\n",
              "  </thead>\n",
              "  <tbody>\n",
              "    <tr>\n",
              "      <th>5</th>\n",
              "      <td>1950</td>\n",
              "    </tr>\n",
              "    <tr>\n",
              "      <th>50</th>\n",
              "      <td>1925</td>\n",
              "    </tr>\n",
              "    <tr>\n",
              "      <th>10</th>\n",
              "      <td>1800</td>\n",
              "    </tr>\n",
              "    <tr>\n",
              "      <th>25</th>\n",
              "      <td>1800</td>\n",
              "    </tr>\n",
              "    <tr>\n",
              "      <th>0</th>\n",
              "      <td>1050</td>\n",
              "    </tr>\n",
              "    <tr>\n",
              "      <th>100</th>\n",
              "      <td>150</td>\n",
              "    </tr>\n",
              "  </tbody>\n",
              "</table>\n",
              "</div><br><label><b>dtype:</b> int64</label>"
            ]
          },
          "metadata": {},
          "execution_count": 8
        }
      ]
    },
    {
      "cell_type": "markdown",
      "source": [
        "## Affichage des spectres moyens par concentration d'adultération\n"
      ],
      "metadata": {
        "id": "mA_u3ZcHQmBM"
      },
      "id": "mA_u3ZcHQmBM"
    },
    {
      "cell_type": "code",
      "execution_count": 11,
      "id": "fd968d7f-58e0-4a72-bf51-2b8d2222a171",
      "metadata": {
        "id": "fd968d7f-58e0-4a72-bf51-2b8d2222a171"
      },
      "outputs": [],
      "source": [
        "wavelengths=df.columns[4:132]"
      ]
    },
    {
      "cell_type": "code",
      "source": [
        "wavelengths"
      ],
      "metadata": {
        "colab": {
          "base_uri": "https://localhost:8080/"
        },
        "id": "gcZ3x2YsR3mN",
        "outputId": "bb95c6ce-da9f-4be0-9091-6dda50a1c7b2"
      },
      "id": "gcZ3x2YsR3mN",
      "execution_count": 12,
      "outputs": [
        {
          "output_type": "execute_result",
          "data": {
            "text/plain": [
              "Index(['399.40nm', '404.39nm', '409.38nm', '414.37nm', '419.37nm', '424.38nm',\n",
              "       '429.38nm', '434.40nm', '439.41nm', '444.43nm',\n",
              "       ...\n",
              "       '1014.66nm', '1020.10nm', '1025.55nm', '1031.00nm', '1036.46nm',\n",
              "       '1041.92nm', '1047.38nm', '1052.85nm', '1058.32nm', '1063.79nm'],\n",
              "      dtype='object', length=128)"
            ]
          },
          "metadata": {},
          "execution_count": 12
        }
      ]
    },
    {
      "cell_type": "code",
      "source": [
        "from matplotlib import colormaps\n",
        "x=np.linspace(198,1064,128)\n",
        "y1=df[df['Concentration_Class']==5].values[:, 4:132].mean(axis=0)\n",
        "y2=df[df['Concentration_Class']==10].values[:, 4:132].mean(axis=0)\n",
        "y3=df[df['Concentration_Class']==25].values[:, 4:132].mean(axis=0)\n",
        "y4=df[df['Concentration_Class']==50].values[:, 4:132].mean(axis=0)\n",
        "y5=df[df['Concentration_Class']==100].values[:, 4:132].mean(axis=0)\n",
        "y6=df[df['Concentration_Class']==0].values[:, 4:132].mean(axis=0)\n",
        "plt.figure(figsize=(10,6))\n",
        "plt.plot(x,y1,label='5%',color='red')\n",
        "plt.plot(x,y2,label='10%',color='blue')\n",
        "plt.plot(x,y3,label='25%',color='green')\n",
        "plt.plot(x,y4,label='50%',color='yellow')\n",
        "plt.plot(x,y5,label='100%',color='orange')\n",
        "plt.plot(x,y6,label='0%',color='black')\n",
        "plt.xlabel('Longueur d\\'onde (nm)')\n",
        "plt.ylabel('Intensité ')\n",
        "plt.title('Spectres moyens par concentration d\\'adultération')\n",
        "plt.legend()\n",
        "plt.show()"
      ],
      "metadata": {
        "colab": {
          "base_uri": "https://localhost:8080/",
          "height": 565
        },
        "id": "Mfr_TDVYScPU",
        "outputId": "aee865eb-c1a1-440d-ade4-b82ad88161d5"
      },
      "id": "Mfr_TDVYScPU",
      "execution_count": 15,
      "outputs": [
        {
          "output_type": "display_data",
          "data": {
            "text/plain": [
              "<Figure size 1000x600 with 1 Axes>"
            ],
            "image/png": "[encoded data removed]"
          },
          "metadata": {}
        }
      ]
    },
    {
      "cell_type": "code",
      "execution_count": 16,
      "id": "cd635f02-0ebd-464b-bfdd-ca832d9e26d7",
      "metadata": {
        "id": "cd635f02-0ebd-464b-bfdd-ca832d9e26d7",
        "colab": {
          "base_uri": "https://localhost:8080/",
          "height": 255
        },
        "outputId": "36bc002d-6fb6-43fb-a7d0-db53ff2ea8b9"
      },
      "outputs": [
        {
          "output_type": "execute_result",
          "data": {
            "text/plain": [
              "  Brand  Acquisition  Concentration_Class  Concentration  399.40nm  404.39nm  \\\n",
              "0    C1            2                   50           50.0  1.029176  1.056051   \n",
              "1    C1            2                   50           50.0  1.053778  1.070452   \n",
              "2    C1            2                   50           50.0  1.088773  1.042955   \n",
              "3    C1            2                   50           50.0  1.040980  1.050815   \n",
              "4    C1            2                   50           50.0  1.114777  1.039309   \n",
              "\n",
              "   409.38nm  414.37nm  419.37nm  424.38nm  ...  1025.55nm  1031.00nm  \\\n",
              "0  1.038291  1.034530  0.999627  0.912370  ...   0.351380   0.355957   \n",
              "1  1.054946  1.033672  1.017340  0.900341  ...   0.365784   0.365818   \n",
              "2  1.091762  1.024891  1.017998  0.909208  ...   0.365922   0.369344   \n",
              "3  1.041357  1.032640  1.000945  0.892702  ...   0.374532   0.385654   \n",
              "4  1.036861  1.014923  0.965831  0.917315  ...   0.361234   0.372401   \n",
              "\n",
              "   1036.46nm  1041.92nm  1047.38nm  1052.85nm  1058.32nm  1063.79nm   Class  \\\n",
              "0   0.365170   0.382118   0.393492   0.410689   0.436481   0.454846  Clover   \n",
              "1   0.378203   0.391223   0.409595   0.427099   0.440755   0.467418  Clover   \n",
              "2   0.380716   0.390350   0.405218   0.429270   0.450195   0.470935  Clover   \n",
              "3   0.390755   0.407553   0.424365   0.438788   0.458487   0.493396  Clover   \n",
              "4   0.377788   0.392066   0.405991   0.422643   0.448330   0.472570  Clover   \n",
              "\n",
              "   Pur  \n",
              "0    0  \n",
              "1    0  \n",
              "2    0  \n",
              "3    0  \n",
              "4    0  \n",
              "\n",
              "[5 rows x 134 columns]"
            ],
            "text/html": [
              "\n",
              "  <div id=\"df-f7d4ecb7-c6a9-46fe-93b0-370ac4ffd5b0\" class=\"colab-df-container\">\n",
              "    <div>\n",
              "<style scoped>\n",
              "    .dataframe tbody tr th:only-of-type {\n",
              "        vertical-align: middle;\n",
              "    }\n",
              "\n",
              "    .dataframe tbody tr th {\n",
              "        vertical-align: top;\n",
              "    }\n",
              "\n",
              "    .dataframe thead th {\n",
              "        text-align: right;\n",
              "    }\n",
              "</style>\n",
              "<table border=\"1\" class=\"dataframe\">\n",
              "  <thead>\n",
              "    <tr style=\"text-align: right;\">\n",
              "      <th></th>\n",
              "      <th>Brand</th>\n",
              "      <th>Acquisition</th>\n",
              "      <th>Concentration_Class</th>\n",
              "      <th>Concentration</th>\n",
              "      <th>399.40nm</th>\n",
              "      <th>404.39nm</th>\n",
              "      <th>409.38nm</th>\n",
              "      <th>414.37nm</th>\n",
              "      <th>419.37nm</th>\n",
              "      <th>424.38nm</th>\n",
              "      <th>...</th>\n",
              "      <th>1025.55nm</th>\n",
              "      <th>1031.00nm</th>\n",
              "      <th>1036.46nm</th>\n",
              "      <th>1041.92nm</th>\n",
              "      <th>1047.38nm</th>\n",
              "      <th>1052.85nm</th>\n",
              "      <th>1058.32nm</th>\n",
              "      <th>1063.79nm</th>\n",
              "      <th>Class</th>\n",
              "      <th>Pur</th>\n",
              "    </tr>\n",
              "  </thead>\n",
              "  <tbody>\n",
              "    <tr>\n",
              "      <th>0</th>\n",
              "      <td>C1</td>\n",
              "      <td>2</td>\n",
              "      <td>50</td>\n",
              "      <td>50.0</td>\n",
              "      <td>1.029176</td>\n",
              "      <td>1.056051</td>\n",
              "      <td>1.038291</td>\n",
              "      <td>1.034530</td>\n",
              "      <td>0.999627</td>\n",
              "      <td>0.912370</td>\n",
              "      <td>...</td>\n",
              "      <td>0.351380</td>\n",
              "      <td>0.355957</td>\n",
              "      <td>0.365170</td>\n",
              "      <td>0.382118</td>\n",
              "      <td>0.393492</td>\n",
              "      <td>0.410689</td>\n",
              "      <td>0.436481</td>\n",
              "      <td>0.454846</td>\n",
              "      <td>Clover</td>\n",
              "      <td>0</td>\n",
              "    </tr>\n",
              "    <tr>\n",
              "      <th>1</th>\n",
              "      <td>C1</td>\n",
              "      <td>2</td>\n",
              "      <td>50</td>\n",
              "      <td>50.0</td>\n",
              "      <td>1.053778</td>\n",
              "      <td>1.070452</td>\n",
              "      <td>1.054946</td>\n",
              "      <td>1.033672</td>\n",
              "      <td>1.017340</td>\n",
              "      <td>0.900341</td>\n",
              "      <td>...</td>\n",
              "      <td>0.365784</td>\n",
              "      <td>0.365818</td>\n",
              "      <td>0.378203</td>\n",
              "      <td>0.391223</td>\n",
              "      <td>0.409595</td>\n",
              "      <td>0.427099</td>\n",
              "      <td>0.440755</td>\n",
              "      <td>0.467418</td>\n",
              "      <td>Clover</td>\n",
              "      <td>0</td>\n",
              "    </tr>\n",
              "    <tr>\n",
              "      <th>2</th>\n",
              "      <td>C1</td>\n",
              "      <td>2</td>\n",
              "      <td>50</td>\n",
              "      <td>50.0</td>\n",
              "      <td>1.088773</td>\n",
              "      <td>1.042955</td>\n",
              "      <td>1.091762</td>\n",
              "      <td>1.024891</td>\n",
              "      <td>1.017998</td>\n",
              "      <td>0.909208</td>\n",
              "      <td>...</td>\n",
              "      <td>0.365922</td>\n",
              "      <td>0.369344</td>\n",
              "      <td>0.380716</td>\n",
              "      <td>0.390350</td>\n",
              "      <td>0.405218</td>\n",
              "      <td>0.429270</td>\n",
              "      <td>0.450195</td>\n",
              "      <td>0.470935</td>\n",
              "      <td>Clover</td>\n",
              "      <td>0</td>\n",
              "    </tr>\n",
              "    <tr>\n",
              "      <th>3</th>\n",
              "      <td>C1</td>\n",
              "      <td>2</td>\n",
              "      <td>50</td>\n",
              "      <td>50.0</td>\n",
              "      <td>1.040980</td>\n",
              "      <td>1.050815</td>\n",
              "      <td>1.041357</td>\n",
              "      <td>1.032640</td>\n",
              "      <td>1.000945</td>\n",
              "      <td>0.892702</td>\n",
              "      <td>...</td>\n",
              "      <td>0.374532</td>\n",
              "      <td>0.385654</td>\n",
              "      <td>0.390755</td>\n",
              "      <td>0.407553</td>\n",
              "      <td>0.424365</td>\n",
              "      <td>0.438788</td>\n",
              "      <td>0.458487</td>\n",
              "      <td>0.493396</td>\n",
              "      <td>Clover</td>\n",
              "      <td>0</td>\n",
              "    </tr>\n",
              "    <tr>\n",
              "      <th>4</th>\n",
              "      <td>C1</td>\n",
              "      <td>2</td>\n",
              "      <td>50</td>\n",
              "      <td>50.0</td>\n",
              "      <td>1.114777</td>\n",
              "      <td>1.039309</td>\n",
              "      <td>1.036861</td>\n",
              "      <td>1.014923</td>\n",
              "      <td>0.965831</td>\n",
              "      <td>0.917315</td>\n",
              "      <td>...</td>\n",
              "      <td>0.361234</td>\n",
              "      <td>0.372401</td>\n",
              "      <td>0.377788</td>\n",
              "      <td>0.392066</td>\n",
              "      <td>0.405991</td>\n",
              "      <td>0.422643</td>\n",
              "      <td>0.448330</td>\n",
              "      <td>0.472570</td>\n",
              "      <td>Clover</td>\n",
              "      <td>0</td>\n",
              "    </tr>\n",
              "  </tbody>\n",
              "</table>\n",
              "<p>5 rows × 134 columns</p>\n",
              "</div>\n",
              "    <div class=\"colab-df-buttons\">\n",
              "\n",
              "  <div class=\"colab-df-container\">\n",
              "    <button class=\"colab-df-convert\" onclick=\"convertToInteractive('df-f7d4ecb7-c6a9-46fe-93b0-370ac4ffd5b0')\"\n",
              "            title=\"Convert this dataframe to an interactive table.\"\n",
              "            style=\"display:none;\">\n",
              "\n",
              "  <svg xmlns=\"http://www.w3.org/2000/svg\" height=\"24px\" viewBox=\"0 -960 960 960\">\n",
              "    <path d=\"M120-120v-720h720v720H120Zm60-500h600v-160H180v160Zm220 220h160v-160H400v160Zm0 220h160v-160H400v160ZM180-400h160v-160H180v160Zm440 0h160v-160H620v160ZM180-180h160v-160H180v160Zm440 0h160v-160H620v160Z\"/>\n",
              "  </svg>\n",
              "    </button>\n",
              "\n",
              "  <style>\n",
              "    .colab-df-container {\n",
              "      display:flex;\n",
              "      gap: 12px;\n",
              "    }\n",
              "\n",
              "    .colab-df-convert {\n",
              "      background-color: #E8F0FE;\n",
              "      border: none;\n",
              "      border-radius: 50%;\n",
              "      cursor: pointer;\n",
              "      display: none;\n",
              "      fill: #1967D2;\n",
              "      height: 32px;\n",
              "      padding: 0 0 0 0;\n",
              "      width: 32px;\n",
              "    }\n",
              "\n",
              "    .colab-df-convert:hover {\n",
              "      background-color: #E2EBFA;\n",
              "      box-shadow: 0px 1px 2px rgba(60, 64, 67, 0.3), 0px 1px 3px 1px rgba(60, 64, 67, 0.15);\n",
              "      fill: #174EA6;\n",
              "    }\n",
              "\n",
              "    .colab-df-buttons div {\n",
              "      margin-bottom: 4px;\n",
              "    }\n",
              "\n",
              "    [theme=dark] .colab-df-convert {\n",
              "      background-color: #3B4455;\n",
              "      fill: #D2E3FC;\n",
              "    }\n",
              "\n",
              "    [theme=dark] .colab-df-convert:hover {\n",
              "      background-color: #434B5C;\n",
              "      box-shadow: 0px 1px 3px 1px rgba(0, 0, 0, 0.15);\n",
              "      filter: drop-shadow(0px 1px 2px rgba(0, 0, 0, 0.3));\n",
              "      fill: #FFFFFF;\n",
              "    }\n",
              "  </style>\n",
              "\n",
              "    <script>\n",
              "      const buttonEl =\n",
              "        document.querySelector('#df-f7d4ecb7-c6a9-46fe-93b0-370ac4ffd5b0 button.colab-df-convert');\n",
              "      buttonEl.style.display =\n",
              "        google.colab.kernel.accessAllowed ? 'block' : 'none';\n",
              "\n",
              "      async function convertToInteractive(key) {\n",
              "        const element = document.querySelector('#df-f7d4ecb7-c6a9-46fe-93b0-370ac4ffd5b0');\n",
              "        const dataTable =\n",
              "          await google.colab.kernel.invokeFunction('convertToInteractive',\n",
              "                                                    [key], {});\n",
              "        if (!dataTable) return;\n",
              "\n",
              "        const docLinkHtml = 'Like what you see? Visit the ' +\n",
              "          '<a target=\"_blank\" href=https://colab.research.google.com/notebooks/data_table.ipynb>data table notebook</a>'\n",
              "          + ' to learn more about interactive tables.';\n",
              "        element.innerHTML = '';\n",
              "        dataTable['output_type'] = 'display_data';\n",
              "        await google.colab.output.renderOutput(dataTable, element);\n",
              "        const docLink = document.createElement('div');\n",
              "        docLink.innerHTML = docLinkHtml;\n",
              "        element.appendChild(docLink);\n",
              "      }\n",
              "    </script>\n",
              "  </div>\n",
              "\n",
              "\n",
              "<div id=\"df-b2e67ebb-5786-4b69-8b66-e58944f54a75\">\n",
              "  <button class=\"colab-df-quickchart\" onclick=\"quickchart('df-b2e67ebb-5786-4b69-8b66-e58944f54a75')\"\n",
              "            title=\"Suggest charts\"\n",
              "            style=\"display:none;\">\n",
              "\n",
              "<svg xmlns=\"http://www.w3.org/2000/svg\" height=\"24px\"viewBox=\"0 0 24 24\"\n",
              "     width=\"24px\">\n",
              "    <g>\n",
              "        <path d=\"M19 3H5c-1.1 0-2 .9-2 2v14c0 1.1.9 2 2 2h14c1.1 0 2-.9 2-2V5c0-1.1-.9-2-2-2zM9 17H7v-7h2v7zm4 0h-2V7h2v10zm4 0h-2v-4h2v4z\"/>\n",
              "    </g>\n",
              "</svg>\n",
              "  </button>\n",
              "\n",
              "<style>\n",
              "  .colab-df-quickchart {\n",
              "      --bg-color: #E8F0FE;\n",
              "      --fill-color: #1967D2;\n",
              "      --hover-bg-color: #E2EBFA;\n",
              "      --hover-fill-color: #174EA6;\n",
              "      --disabled-fill-color: #AAA;\n",
              "      --disabled-bg-color: #DDD;\n",
              "  }\n",
              "\n",
              "  [theme=dark] .colab-df-quickchart {\n",
              "      --bg-color: #3B4455;\n",
              "      --fill-color: #D2E3FC;\n",
              "      --hover-bg-color: #434B5C;\n",
              "      --hover-fill-color: #FFFFFF;\n",
              "      --disabled-bg-color: #3B4455;\n",
              "      --disabled-fill-color: #666;\n",
              "  }\n",
              "\n",
              "  .colab-df-quickchart {\n",
              "    background-color: var(--bg-color);\n",
              "    border: none;\n",
              "    border-radius: 50%;\n",
              "    cursor: pointer;\n",
              "    display: none;\n",
              "    fill: var(--fill-color);\n",
              "    height: 32px;\n",
              "    padding: 0;\n",
              "    width: 32px;\n",
              "  }\n",
              "\n",
              "  .colab-df-quickchart:hover {\n",
              "    background-color: var(--hover-bg-color);\n",
              "    box-shadow: 0 1px 2px rgba(60, 64, 67, 0.3), 0 1px 3px 1px rgba(60, 64, 67, 0.15);\n",
              "    fill: var(--button-hover-fill-color);\n",
              "  }\n",
              "\n",
              "  .colab-df-quickchart-complete:disabled,\n",
              "  .colab-df-quickchart-complete:disabled:hover {\n",
              "    background-color: var(--disabled-bg-color);\n",
              "    fill: var(--disabled-fill-color);\n",
              "    box-shadow: none;\n",
              "  }\n",
              "\n",
              "  .colab-df-spinner {\n",
              "    border: 2px solid var(--fill-color);\n",
              "    border-color: transparent;\n",
              "    border-bottom-color: var(--fill-color);\n",
              "    animation:\n",
              "      spin 1s steps(1) infinite;\n",
              "  }\n",
              "\n",
              "  @keyframes spin {\n",
              "    0% {\n",
              "      border-color: transparent;\n",
              "      border-bottom-color: var(--fill-color);\n",
              "      border-left-color: var(--fill-color);\n",
              "    }\n",
              "    20% {\n",
              "      border-color: transparent;\n",
              "      border-left-color: var(--fill-color);\n",
              "      border-top-color: var(--fill-color);\n",
              "    }\n",
              "    30% {\n",
              "      border-color: transparent;\n",
              "      border-left-color: var(--fill-color);\n",
              "      border-top-color: var(--fill-color);\n",
              "      border-right-color: var(--fill-color);\n",
              "    }\n",
              "    40% {\n",
              "      border-color: transparent;\n",
              "      border-right-color: var(--fill-color);\n",
              "      border-top-color: var(--fill-color);\n",
              "    }\n",
              "    60% {\n",
              "      border-color: transparent;\n",
              "      border-right-color: var(--fill-color);\n",
              "    }\n",
              "    80% {\n",
              "      border-color: transparent;\n",
              "      border-right-color: var(--fill-color);\n",
              "      border-bottom-color: var(--fill-color);\n",
              "    }\n",
              "    90% {\n",
              "      border-color: transparent;\n",
              "      border-bottom-color: var(--fill-color);\n",
              "    }\n",
              "  }\n",
              "</style>\n",
              "\n",
              "  <script>\n",
              "    async function quickchart(key) {\n",
              "      const quickchartButtonEl =\n",
              "        document.querySelector('#' + key + ' button');\n",
              "      quickchartButtonEl.disabled = true;  // To prevent multiple clicks.\n",
              "      quickchartButtonEl.classList.add('colab-df-spinner');\n",
              "      try {\n",
              "        const charts = await google.colab.kernel.invokeFunction(\n",
              "            'suggestCharts', [key], {});\n",
              "      } catch (error) {\n",
              "        console.error('Error during call to suggestCharts:', error);\n",
              "      }\n",
              "      quickchartButtonEl.classList.remove('colab-df-spinner');\n",
              "      quickchartButtonEl.classList.add('colab-df-quickchart-complete');\n",
              "    }\n",
              "    (() => {\n",
              "      let quickchartButtonEl =\n",
              "        document.querySelector('#df-b2e67ebb-5786-4b69-8b66-e58944f54a75 button');\n",
              "      quickchartButtonEl.style.display =\n",
              "        google.colab.kernel.accessAllowed ? 'block' : 'none';\n",
              "    })();\n",
              "  </script>\n",
              "</div>\n",
              "\n",
              "    </div>\n",
              "  </div>\n"
            ],
            "application/vnd.google.colaboratory.intrinsic+json": {
              "type": "dataframe",
              "variable_name": "df"
            }
          },
          "metadata": {},
          "execution_count": 16
        }
      ],
      "source": [
        "#Ajout d'un attribut Pur 1: 0 non Pur\n",
        "df['Pur']=df['Concentration_Class'].apply(lambda x: 1 if x==0 else 0)\n",
        "df.head()"
      ]
    },
    {
      "cell_type": "code",
      "execution_count": 17,
      "id": "4912eb28-1c4d-494c-9c8e-0e5dc71c298f",
      "metadata": {
        "id": "4912eb28-1c4d-494c-9c8e-0e5dc71c298f"
      },
      "outputs": [],
      "source": [
        "#Définition de X et y\n",
        "y=df['Pur'].values #il faut que ca soit ndarray\n",
        "X=df[wavelengths].values"
      ]
    },
    {
      "cell_type": "code",
      "source": [
        "#Verification du type de y\n",
        "y"
      ],
      "metadata": {
        "colab": {
          "base_uri": "https://localhost:8080/"
        },
        "id": "8WF0y1qcW2i1",
        "outputId": "28cd2ad3-0c9a-480e-eca4-78b493ffa4f2"
      },
      "id": "8WF0y1qcW2i1",
      "execution_count": 18,
      "outputs": [
        {
          "output_type": "execute_result",
          "data": {
            "text/plain": [
              "array([0, 0, 0, ..., 0, 0, 0])"
            ]
          },
          "metadata": {},
          "execution_count": 18
        }
      ]
    },
    {
      "cell_type": "code",
      "execution_count": 19,
      "id": "ecf0ded5-afba-4cbf-b4a0-48aa589d1a08",
      "metadata": {
        "id": "ecf0ded5-afba-4cbf-b4a0-48aa589d1a08"
      },
      "outputs": [],
      "source": [
        "#Division des données en train_data, test_data, train_labels et test_labels\n",
        "from sklearn.model_selection import train_test_split\n",
        "train_data, test_data, train_labels, test_labels = train_test_split(X, y, test_size=0.2, random_state=42)"
      ]
    },
    {
      "cell_type": "code",
      "execution_count": 20,
      "id": "b2b75d27",
      "metadata": {
        "id": "b2b75d27"
      },
      "outputs": [],
      "source": [
        "#Normalisation\n",
        "import tensorflow as tf\n",
        "train_data=train_data.astype(float)\n",
        "min_val = tf.reduce_min(train_data)\n",
        "max_val = tf.reduce_max(train_data)\n",
        "train_data = (train_data - min_val) / (max_val - min_val)\n",
        "test_data = (test_data - min_val) / (max_val - min_val)\n",
        "train_data = tf.cast(train_data, tf.float32)\n",
        "test_data = tf.cast(test_data, tf.float32)"
      ]
    },
    {
      "cell_type": "code",
      "execution_count": 21,
      "id": "b4cbcce6",
      "metadata": {
        "id": "b4cbcce6"
      },
      "outputs": [],
      "source": [
        "#Division en données normales/anormales\n",
        "train_labels = train_labels.astype(bool)\n",
        "test_labels = test_labels.astype(bool)\n",
        "\n",
        "normal_train_data = train_data[train_labels]\n",
        "anomalous_train_data = train_data[~train_labels] #la négation, selection là ou on  un 0 (faux)\n"
      ]
    },
    {
      "cell_type": "code",
      "execution_count": 22,
      "id": "90548062",
      "metadata": {
        "id": "90548062"
      },
      "outputs": [],
      "source": [
        "import tensorflow as tf\n",
        "from tensorflow.keras.models import Model\n",
        "from tensorflow.keras import layers, losses\n",
        "class AnomalyDetector(Model):\n",
        "  def __init__(self):\n",
        "    super(AnomalyDetector, self).__init__()\n",
        "    self.encoder = tf.keras.Sequential([\n",
        "      layers.Dense(32, activation=\"relu\"),\n",
        "      layers.Dense(16, activation=\"relu\"),\n",
        "      layers.Dense(8, activation=\"relu\")])\n",
        "\n",
        "    self.decoder = tf.keras.Sequential([\n",
        "      layers.Dense(16, activation=\"relu\"),\n",
        "      layers.Dense(32, activation=\"relu\"),\n",
        "      layers.Dense(128, activation=\"sigmoid\")])\n",
        "\n",
        "  def call(self, x):\n",
        "    encoded = self.encoder(x)\n",
        "    decoded = self.decoder(encoded)\n",
        "    return decoded\n",
        "\n",
        "autoencoder = AnomalyDetector()"
      ]
    },
    {
      "cell_type": "code",
      "execution_count": 24,
      "id": "0a6e89b1",
      "metadata": {
        "id": "0a6e89b1"
      },
      "outputs": [],
      "source": [
        "#Méthode 2\n",
        "import tensorflow as tf\n",
        "from tensorflow.keras.models import Model\n",
        "from tensorflow.keras import layers, losses\n",
        "from tensorflow.keras.optimizers import Adam\n",
        "from tensorflow.keras.saving import register_keras_serializable\n",
        "@register_keras_serializable()\n",
        "class AnomalyDetector(Model):\n",
        "  def __init__(self,**kwargs):\n",
        "    super(AnomalyDetector, self).__init__(**kwargs)\n",
        "    self.encoder = tf.keras.Sequential([\n",
        "      layers.Dense(128, activation=\"relu\"),\n",
        "      layers.Dense(110, activation=\"relu\"),\n",
        "      layers.Dense(92, activation=\"relu\"),\n",
        "      layers.Dense(74, activation=\"relu\"),\n",
        "      layers.Dense(65, activation=\"relu\"),\n",
        "      layers.Dense(56, activation=\"relu\"),\n",
        "      layers.Dense(40, activation=\"relu\"),\n",
        "      layers.Dense(30, activation=\"relu\"),\n",
        "      layers.Dense(20, activation=\"relu\")])\n",
        "\n",
        "    self.decoder = tf.keras.Sequential([\n",
        "\n",
        "      layers.Dense(30, activation=\"relu\"),\n",
        "      layers.Dense(40, activation=\"relu\"),\n",
        "      layers.Dense(56, activation=\"relu\"),\n",
        "      layers.Dense(65, activation=\"relu\"),\n",
        "      layers.Dense(74, activation=\"relu\"),\n",
        "      layers.Dense(92, activation=\"relu\"),\n",
        "      layers.Dense(110, activation=\"relu\"),\n",
        "      layers.Dense(128, activation=\"sigmoid\"),\n",
        "      layers.Dense(128, activation=\"sigmoid\")])\n",
        "\n",
        "  def call(self, x):\n",
        "    encoded = self.encoder(x)\n",
        "    decoded = self.decoder(encoded)\n",
        "    return decoded\n",
        "\n",
        "\n",
        "autoencoder = AnomalyDetector()"
      ]
    },
    {
      "cell_type": "code",
      "execution_count": 25,
      "id": "6bcd01d1",
      "metadata": {
        "id": "6bcd01d1"
      },
      "outputs": [],
      "source": [
        "optimizer = Adam(learning_rate=0.001)\n",
        "autoencoder.compile(optimizer=optimizer, loss='mae')"
      ]
    },
    {
      "cell_type": "code",
      "execution_count": 26,
      "id": "eacbf02b",
      "metadata": {
        "id": "eacbf02b",
        "outputId": "1a0dff15-3ee6-4ba9-a0ff-5ddedc47e33a",
        "colab": {
          "base_uri": "https://localhost:8080/"
        }
      },
      "outputs": [
        {
          "output_type": "stream",
          "name": "stdout",
          "text": [
            "Epoch 1/20\n",
            "\u001b[1m24/24\u001b[0m \u001b[32m━━━━━━━━━━━━━━━━━━━━\u001b[0m\u001b[37m\u001b[0m \u001b[1m7s\u001b[0m 32ms/step - loss: 0.1634 - val_loss: 0.0683\n",
            "Epoch 2/20\n",
            "\u001b[1m24/24\u001b[0m \u001b[32m━━━━━━━━━━━━━━━━━━━━\u001b[0m\u001b[37m\u001b[0m \u001b[1m0s\u001b[0m 13ms/step - loss: 0.0636 - val_loss: 0.0483\n",
            "Epoch 3/20\n",
            "\u001b[1m24/24\u001b[0m \u001b[32m━━━━━━━━━━━━━━━━━━━━\u001b[0m\u001b[37m\u001b[0m \u001b[1m1s\u001b[0m 13ms/step - loss: 0.0496 - val_loss: 0.0382\n",
            "Epoch 4/20\n",
            "\u001b[1m24/24\u001b[0m \u001b[32m━━━━━━━━━━━━━━━━━━━━\u001b[0m\u001b[37m\u001b[0m \u001b[1m1s\u001b[0m 14ms/step - loss: 0.0383 - val_loss: 0.0301\n",
            "Epoch 5/20\n",
            "\u001b[1m24/24\u001b[0m \u001b[32m━━━━━━━━━━━━━━━━━━━━\u001b[0m\u001b[37m\u001b[0m \u001b[1m0s\u001b[0m 8ms/step - loss: 0.0301 - val_loss: 0.0262\n",
            "Epoch 6/20\n",
            "\u001b[1m24/24\u001b[0m \u001b[32m━━━━━━━━━━━━━━━━━━━━\u001b[0m\u001b[37m\u001b[0m \u001b[1m0s\u001b[0m 8ms/step - loss: 0.0255 - val_loss: 0.0225\n",
            "Epoch 7/20\n",
            "\u001b[1m24/24\u001b[0m \u001b[32m━━━━━━━━━━━━━━━━━━━━\u001b[0m\u001b[37m\u001b[0m \u001b[1m0s\u001b[0m 9ms/step - loss: 0.0216 - val_loss: 0.0212\n",
            "Epoch 8/20\n",
            "\u001b[1m24/24\u001b[0m \u001b[32m━━━━━━━━━━━━━━━━━━━━\u001b[0m\u001b[37m\u001b[0m \u001b[1m0s\u001b[0m 8ms/step - loss: 0.0211 - val_loss: 0.0202\n",
            "Epoch 9/20\n",
            "\u001b[1m24/24\u001b[0m \u001b[32m━━━━━━━━━━━━━━━━━━━━\u001b[0m\u001b[37m\u001b[0m \u001b[1m0s\u001b[0m 8ms/step - loss: 0.0202 - val_loss: 0.0195\n",
            "Epoch 10/20\n",
            "\u001b[1m24/24\u001b[0m \u001b[32m━━━━━━━━━━━━━━━━━━━━\u001b[0m\u001b[37m\u001b[0m \u001b[1m0s\u001b[0m 8ms/step - loss: 0.0196 - val_loss: 0.0200\n",
            "Epoch 11/20\n",
            "\u001b[1m24/24\u001b[0m \u001b[32m━━━━━━━━━━━━━━━━━━━━\u001b[0m\u001b[37m\u001b[0m \u001b[1m0s\u001b[0m 8ms/step - loss: 0.0195 - val_loss: 0.0196\n",
            "Epoch 12/20\n",
            "\u001b[1m24/24\u001b[0m \u001b[32m━━━━━━━━━━━━━━━━━━━━\u001b[0m\u001b[37m\u001b[0m \u001b[1m0s\u001b[0m 8ms/step - loss: 0.0183 - val_loss: 0.0188\n",
            "Epoch 13/20\n",
            "\u001b[1m24/24\u001b[0m \u001b[32m━━━━━━━━━━━━━━━━━━━━\u001b[0m\u001b[37m\u001b[0m \u001b[1m0s\u001b[0m 9ms/step - loss: 0.0182 - val_loss: 0.0186\n",
            "Epoch 14/20\n",
            "\u001b[1m24/24\u001b[0m \u001b[32m━━━━━━━━━━━━━━━━━━━━\u001b[0m\u001b[37m\u001b[0m \u001b[1m0s\u001b[0m 8ms/step - loss: 0.0180 - val_loss: 0.0185\n",
            "Epoch 15/20\n",
            "\u001b[1m24/24\u001b[0m \u001b[32m━━━━━━━━━━━━━━━━━━━━\u001b[0m\u001b[37m\u001b[0m \u001b[1m0s\u001b[0m 8ms/step - loss: 0.0183 - val_loss: 0.0187\n",
            "Epoch 16/20\n",
            "\u001b[1m24/24\u001b[0m \u001b[32m━━━━━━━━━━━━━━━━━━━━\u001b[0m\u001b[37m\u001b[0m \u001b[1m0s\u001b[0m 8ms/step - loss: 0.0183 - val_loss: 0.0184\n",
            "Epoch 17/20\n",
            "\u001b[1m24/24\u001b[0m \u001b[32m━━━━━━━━━━━━━━━━━━━━\u001b[0m\u001b[37m\u001b[0m \u001b[1m0s\u001b[0m 8ms/step - loss: 0.0178 - val_loss: 0.0185\n",
            "Epoch 18/20\n",
            "\u001b[1m24/24\u001b[0m \u001b[32m━━━━━━━━━━━━━━━━━━━━\u001b[0m\u001b[37m\u001b[0m \u001b[1m0s\u001b[0m 8ms/step - loss: 0.0175 - val_loss: 0.0189\n",
            "Epoch 19/20\n",
            "\u001b[1m24/24\u001b[0m \u001b[32m━━━━━━━━━━━━━━━━━━━━\u001b[0m\u001b[37m\u001b[0m \u001b[1m0s\u001b[0m 8ms/step - loss: 0.0184 - val_loss: 0.0193\n",
            "Epoch 20/20\n",
            "\u001b[1m24/24\u001b[0m \u001b[32m━━━━━━━━━━━━━━━━━━━━\u001b[0m\u001b[37m\u001b[0m \u001b[1m0s\u001b[0m 12ms/step - loss: 0.0172 - val_loss: 0.0177\n"
          ]
        }
      ],
      "source": [
        "history= autoencoder.fit(normal_train_data, normal_train_data,\n",
        "          epochs=20,\n",
        "          batch_size=32,\n",
        "          validation_split= 0.1,\n",
        "          shuffle=True)"
      ]
    },
    {
      "cell_type": "code",
      "execution_count": 28,
      "id": "1c2c5719",
      "metadata": {
        "id": "1c2c5719",
        "outputId": "f8c97044-2600-4808-93e5-5a0e53ef9a19",
        "colab": {
          "base_uri": "https://localhost:8080/",
          "height": 466
        }
      },
      "outputs": [
        {
          "output_type": "display_data",
          "data": {
            "text/plain": [
              "<Figure size 640x480 with 1 Axes>"
            ],
            "image/png": "[encoded data removed]"
          },
          "metadata": {}
        },
        {
          "output_type": "execute_result",
          "data": {
            "text/plain": [
              "<Figure size 1000x600 with 0 Axes>"
            ]
          },
          "metadata": {},
          "execution_count": 28
        },
        {
          "output_type": "display_data",
          "data": {
            "text/plain": [
              "<Figure size 1000x600 with 0 Axes>"
            ]
          },
          "metadata": {}
        }
      ],
      "source": [
        "#Affichage des cours Loss du train et du test sets\n",
        "plt.plot(history.history['loss'], label='train loss')\n",
        "plt.plot(history.history['val_loss'], label='test loss')\n",
        "plt.legend()\n",
        "plt.show()\n",
        "plt.figure(figsize=(10,6))"
      ]
    },
    {
      "cell_type": "code",
      "execution_count": 29,
      "id": "b8cd5dbf-3a86-44bc-b896-78d6608f2710",
      "metadata": {
        "id": "b8cd5dbf-3a86-44bc-b896-78d6608f2710",
        "outputId": "3507c3a8-9673-4adb-8a96-1096a3ec9e39",
        "colab": {
          "base_uri": "https://localhost:8080/"
        }
      },
      "outputs": [
        {
          "output_type": "stream",
          "name": "stdout",
          "text": [
            "\u001b[1m27/27\u001b[0m \u001b[32m━━━━━━━━━━━━━━━━━━━━\u001b[0m\u001b[37m\u001b[0m \u001b[1m0s\u001b[0m 11ms/step\n"
          ]
        }
      ],
      "source": [
        "#calcul du seuil de reconstruction sur les données normal_train_data\n",
        "#Méthode 1: Reconstruction\n",
        "Result1=autoencoder.predict(normal_train_data)\n",
        "#keras MAE\n",
        "train_mae_loss = tf.keras.losses.mae(normal_train_data, Result1)"
      ]
    },
    {
      "cell_type": "code",
      "source": [
        "#Méthode 2\n",
        "ET=autoencoder.encoder(normal_train_data)\n",
        "Result2=autoencoder.decoder(ET)\n",
        "#Méthode 3\n",
        "Res3= autoencoder(normal_train_data)\n",
        "Res3"
      ],
      "metadata": {
        "colab": {
          "base_uri": "https://localhost:8080/"
        },
        "id": "cA1XTmdJZkAP",
        "outputId": "d0798c53-a144-46cb-b744-b057b6201205"
      },
      "id": "cA1XTmdJZkAP",
      "execution_count": null,
      "outputs": [
        {
          "output_type": "execute_result",
          "data": {
            "text/plain": [
              "<tf.Tensor: shape=(838, 128), dtype=float32, numpy=\n",
              "array([[0.85084987, 0.84845024, 0.826724  , ..., 0.39439678, 0.40567204,\n",
              "        0.4308563 ],\n",
              "       [0.8774009 , 0.8812531 , 0.86708933, ..., 0.4012601 , 0.4240581 ,\n",
              "        0.4424487 ],\n",
              "       [0.87456733, 0.8672413 , 0.86012304, ..., 0.3680168 , 0.385675  ,\n",
              "        0.41400337],\n",
              "       ...,\n",
              "       [0.85303515, 0.8512776 , 0.8294227 , ..., 0.3952689 , 0.40639207,\n",
              "        0.4315406 ],\n",
              "       [0.8348296 , 0.82498604, 0.8159032 , ..., 0.38960397, 0.40592575,\n",
              "        0.42279676],\n",
              "       [0.89129573, 0.891924  , 0.8822259 , ..., 0.40104526, 0.4361892 ,\n",
              "        0.45668843]], dtype=float32)>"
            ]
          },
          "metadata": {},
          "execution_count": 50
        }
      ]
    },
    {
      "cell_type": "code",
      "source": [
        "threshold  = np.mean(train_mae_loss) + np.std(train_mae_loss)"
      ],
      "metadata": {
        "id": "EFrvA-DtbDds"
      },
      "id": "EFrvA-DtbDds",
      "execution_count": 30,
      "outputs": []
    },
    {
      "cell_type": "code",
      "source": [
        "print(threshold)"
      ],
      "metadata": {
        "colab": {
          "base_uri": "https://localhost:8080/"
        },
        "id": "zuXqFHlBbWYQ",
        "outputId": "8be47efe-5df2-4a3d-c522-47d040c3789d"
      },
      "id": "zuXqFHlBbWYQ",
      "execution_count": 32,
      "outputs": [
        {
          "output_type": "stream",
          "name": "stdout",
          "text": [
            "0.027874112\n"
          ]
        }
      ]
    },
    {
      "cell_type": "code",
      "source": [
        "\"\"\"\n",
        "#calcul du seuil de reconstruction sur les données normal_train_data\n",
        "#Méthode 1: Reconstruction\n",
        "Result=autoencoder.predict(train_data)\n",
        "#keras MAE\n",
        "train_mae_loss = tf.keras.losses.mae(train_data, Result)\n",
        "threshold  = np.mean(train_mae_loss) + np.std(train_mae_loss)\n",
        "print(threshold) \"\"\""
      ],
      "metadata": {
        "colab": {
          "base_uri": "https://localhost:8080/"
        },
        "id": "SOm2gIT8bwPm",
        "outputId": "163dffdd-11eb-4985-a690-a05bb68ab0d4"
      },
      "id": "SOm2gIT8bwPm",
      "execution_count": null,
      "outputs": [
        {
          "output_type": "stream",
          "name": "stdout",
          "text": [
            "\u001b[1m217/217\u001b[0m \u001b[32m━━━━━━━━━━━━━━━━━━━━\u001b[0m\u001b[37m\u001b[0m \u001b[1m1s\u001b[0m 6ms/step\n",
            "0.09533363\n"
          ]
        }
      ]
    },
    {
      "cell_type": "code",
      "execution_count": 33,
      "id": "8578789e-46dc-4f35-aaf6-a21f649ff38d",
      "metadata": {
        "id": "8578789e-46dc-4f35-aaf6-a21f649ff38d"
      },
      "outputs": [],
      "source": [
        "#def predict(model, data, threshold):\n",
        "def predict(model, data, threshold):\n",
        "  reconstructions=model(data)\n",
        "  loss=tf.keras.losses.mae(reconstructions,data)\n",
        "  return tf.math.less(loss,threshold) #ou bien return loss < threshold"
      ]
    },
    {
      "cell_type": "code",
      "source": [
        "predict(autoencoder, train_data,threshold)"
      ],
      "metadata": {
        "colab": {
          "base_uri": "https://localhost:8080/"
        },
        "id": "65yZGpeSc6ZN",
        "outputId": "c33d6a8a-db2d-4837-e545-ae147530af2f"
      },
      "id": "65yZGpeSc6ZN",
      "execution_count": 34,
      "outputs": [
        {
          "output_type": "execute_result",
          "data": {
            "text/plain": [
              "<tf.Tensor: shape=(6940,), dtype=bool, numpy=array([False, False, False, ..., False, False,  True])>"
            ]
          },
          "metadata": {},
          "execution_count": 34
        }
      ]
    },
    {
      "cell_type": "code",
      "execution_count": 35,
      "id": "d349ee39",
      "metadata": {
        "id": "d349ee39"
      },
      "outputs": [],
      "source": [
        "from sklearn.metrics import accuracy_score, precision_score, recall_score, f1_score\n",
        "def print_stats(predictions, labels):\n",
        "  print(\"Accuracy = {}\".format(accuracy_score(labels, predictions)))\n",
        "  print(\"Precision = {}\".format(precision_score(labels, predictions)))\n",
        "  print(\"Recall = {}\".format(recall_score(labels, predictions)))\n",
        "  print(\"F1 Score = {}\".format(f1_score(labels, predictions)))\n",
        "\n"
      ]
    },
    {
      "cell_type": "code",
      "source": [
        "#Prédiction sur les données d'entrainement\n",
        "preds = predict(autoencoder, train_data, threshold)\n",
        "print_stats(preds, train_labels)"
      ],
      "metadata": {
        "colab": {
          "base_uri": "https://localhost:8080/"
        },
        "id": "e_wD88xadpb1",
        "outputId": "ccc0eb6e-4829-4ea6-83eb-9191e30ecbc8"
      },
      "id": "e_wD88xadpb1",
      "execution_count": 36,
      "outputs": [
        {
          "output_type": "stream",
          "name": "stdout",
          "text": [
            "Accuracy = 0.7340057636887608\n",
            "Precision = 0.29052369077306733\n",
            "Recall = 0.834128878281623\n",
            "F1 Score = 0.4309494451294698\n"
          ]
        }
      ]
    },
    {
      "cell_type": "code",
      "source": [
        "##Prédiction sur les données de test\n",
        "\n",
        "preds = predict(autoencoder, test_data, threshold)\n",
        "print_stats(preds, test_labels)"
      ],
      "metadata": {
        "colab": {
          "base_uri": "https://localhost:8080/"
        },
        "id": "suBxSNO2d5MB",
        "outputId": "a6f7693d-b7f6-4cc6-d42b-cddbdc415c16"
      },
      "id": "suBxSNO2d5MB",
      "execution_count": 37,
      "outputs": [
        {
          "output_type": "stream",
          "name": "stdout",
          "text": [
            "Accuracy = 0.7273775216138328\n",
            "Precision = 0.2884927066450567\n",
            "Recall = 0.839622641509434\n",
            "F1 Score = 0.4294330518697226\n"
          ]
        }
      ]
    },
    {
      "source": [
        "#Affichez les courbes de reconstruction des données de test - miel pur ainsi que miel adultéré\n",
        "#Montrez l'erreur de reconstructions\n",
        "x=np.linspace(400,1064,128)\n",
        "\n",
        "normal_test_data = test_data[test_labels]\n",
        "anomalous_test_data = test_data[~test_labels]\n",
        "\n",
        "recontruction_normal=autoencoder.predict(normal_test_data)\n",
        "recontruction_anomalous=autoencoder.predict(anomalous_test_data)\n",
        "\n",
        "y1=np.mean(normal_test_data[:,:132], axis=0)\n",
        "y2=np.mean(recontruction_normal[:,:132], axis=0)\n",
        "\n",
        "# Une seule figure contenant les 2 courbes\n",
        "plt.figure(figsize=(12, 6))\n",
        "\n",
        "# Subplot 1: Pure Honey Reconstruction\n",
        "plt.subplot(1, 2, 1)\n",
        "plt.plot(x, y1, label='Original', color='blue')\n",
        "plt.plot(x, y2, label='Reconstruction', color='red')\n",
        "plt.fill_between(x, y2, y1, color='lightcoral')\n",
        "plt.xlabel('Wavelength (nm)')\n",
        "plt.ylabel('Intensity')\n",
        "plt.title('Pure Honey Reconstruction')\n",
        "plt.legend()\n",
        "\n",
        "# Subplot 2: Adulterated Honey Reconstruction\n",
        "y3=np.mean(anomalous_test_data[:,:132], axis=0)\n",
        "y4=np.mean(recontruction_anomalous[:,:132], axis=0)\n",
        "\n",
        "plt.subplot(1, 2, 2)\n",
        "plt.plot(x, y3, label='Original', color='blue')\n",
        "plt.plot(x, y4, label='Reconstruction', color='red')\n",
        "plt.fill_between(x, y4, y3, color='lightcoral')\n",
        "plt.xlabel('Wavelength (nm)')\n",
        "plt.ylabel('Intensity')\n",
        "plt.title('Adultered Honey Reconstruction')\n",
        "plt.legend()\n",
        "\n",
        "#Afficher les courbes\n",
        "plt.tight_layout()\n",
        "plt.show()"
      ],
      "cell_type": "code",
      "metadata": {
        "colab": {
          "base_uri": "https://localhost:8080/",
          "height": 643
        },
        "id": "17Io77_cTXa1",
        "outputId": "28356a7c-36a7-4303-9626-b73f98f63445"
      },
      "id": "17Io77_cTXa1",
      "execution_count": 48,
      "outputs": [
        {
          "output_type": "stream",
          "name": "stdout",
          "text": [
            "\u001b[1m7/7\u001b[0m \u001b[32m━━━━━━━━━━━━━━━━━━━━\u001b[0m\u001b[37m\u001b[0m \u001b[1m0s\u001b[0m 11ms/step\n",
            "\u001b[1m48/48\u001b[0m \u001b[32m━━━━━━━━━━━━━━━━━━━━\u001b[0m\u001b[37m\u001b[0m \u001b[1m0s\u001b[0m 4ms/step\n"
          ]
        },
        {
          "output_type": "display_data",
          "data": {
            "text/plain": [
              "<Figure size 1200x600 with 2 Axes>"
            ],
            "image/png": "[encoded data removed]"
          },
          "metadata": {}
        }
      ]
    },
    {
      "cell_type": "markdown",
      "source": [
        "- Les courbes original et de reconstruction pour le miel pur sont presque confondues, ce qui indique que l'auto-encodeur a bien appris à reconstruire les données normales (miel pur). En revanche, pour le miel adultéré, on observe un décalage significatif entre la courbe originale et la courbe de reconstruction.\n",
        "\n",
        "Ce décalage représente l'erreur de reconstruction, qui est plus élevée pour les données anormales (miel adultéré) que pour les données normales (miel pur).\n",
        "\n",
        "\n",
        "L'auto-encodeur est entraîné sur les données normales (miel pur) afin qu'il apprenne à reconstruire ces données avec une erreur minimale.\n",
        "\n",
        "Lors de la prédiction, si l'erreur de reconstruction d'un échantillon est inférieure à un certain seuil, l'échantillon est classé comme normal (miel pur). Si l'erreur de reconstruction est supérieure au seuil, l'échantillon est classé comme anormal (miel adultéré)."
      ],
      "metadata": {
        "id": "P5TfsffgUduD"
      },
      "id": "P5TfsffgUduD"
    }
  ],
  "metadata": {
    "kernelspec": {
      "display_name": "Python 3 (ipykernel)",
      "language": "python",
      "name": "python3"
    },
    "language_info": {
      "codemirror_mode": {
        "name": "ipython",
        "version": 3
      },
      "file_extension": ".py",
      "mimetype": "text/x-python",
      "name": "python",
      "nbconvert_exporter": "python",
      "pygments_lexer": "ipython3",
      "version": "3.11.7"
    },
    "colab": {
      "provenance": []
    }
  },
  "nbformat": 4,
  "nbformat_minor": 5
}